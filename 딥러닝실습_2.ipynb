{
  "cells": [
    {
      "cell_type": "markdown",
      "metadata": {
        "id": "TVNNpqBtKQHf"
      },
      "source": [
        "python 3.10, \n",
        "Tesorflow, Keras 2.10\n",
        "numpy 1.23.1"
      ]
    },
    {
      "cell_type": "markdown",
      "metadata": {
        "id": "vswHtp8CHGFX"
      },
      "source": [
        "# PART2. CNN 실습"
      ]
    },
    {
      "cell_type": "markdown",
      "metadata": {
        "id": "LQnhySXZMBf3"
      },
      "source": [
        "### 필요한 라이브러리 호출\n",
        "- import를 이용하여 필요한 library 호출"
      ]
    },
    {
      "cell_type": "code",
      "execution_count": 1,
      "metadata": {
        "id": "ggzUB5dJNgSR"
      },
      "outputs": [],
      "source": [
        "import tensorflow as tf\n",
        "import numpy as np"
      ]
    },
    {
      "cell_type": "markdown",
      "metadata": {
        "id": "gsTT41bzMtq3"
      },
      "source": [
        "### Dataset 생성\n",
        "- Tensorflow에서 MNIST 데이터 다운"
      ]
    },
    {
      "cell_type": "code",
      "execution_count": 2,
      "metadata": {
        "id": "kiuobZc2NgOl",
        "colab": {
          "base_uri": "https://localhost:8080/"
        },
        "outputId": "ac0e3ea1-2637-4bde-f919-e65663165305"
      },
      "outputs": [
        {
          "output_type": "stream",
          "name": "stdout",
          "text": [
            "Downloading data from https://storage.googleapis.com/tensorflow/tf-keras-datasets/mnist.npz\n",
            "11490434/11490434 [==============================] - 1s 0us/step\n"
          ]
        }
      ],
      "source": [
        "# 오프라인시 파일 필요 : 사용자/.keras/datasets/mnist.npz \n",
        "(x_train,y_train), (x_test,y_test) = tf.keras.datasets.mnist.load_data()"
      ]
    },
    {
      "cell_type": "markdown",
      "metadata": {
        "id": "KF_JEdHCM3EF"
      },
      "source": [
        "- Data pre-processing"
      ]
    },
    {
      "cell_type": "code",
      "execution_count": 3,
      "metadata": {
        "id": "WX8uexT9HbgY"
      },
      "outputs": [],
      "source": [
        "tf.random.set_seed(1234)\n",
        "\n",
        "x_train, x_test = x_train / 255.0, x_test / 255.0\n",
        "\n",
        "x_train = x_train.reshape(-1,28,28,1)\n",
        "x_test = x_test.reshape(-1,28,28,1)"
      ]
    },
    {
      "cell_type": "markdown",
      "metadata": {
        "id": "g8328XcfM8HF"
      },
      "source": [
        "- One-Hot encoding 처리"
      ]
    },
    {
      "cell_type": "code",
      "execution_count": 4,
      "metadata": {
        "id": "WiXXdWkzHbe4"
      },
      "outputs": [],
      "source": [
        "y_train = tf.keras.utils.to_categorical(y_train, 10)\n",
        "y_test = tf.keras.utils.to_categorical(y_test,10)"
      ]
    },
    {
      "cell_type": "markdown",
      "metadata": {
        "id": "tT-4hXx3NDI0"
      },
      "source": [
        "### CNN 모델 구현\n",
        "- CNN 모델링"
      ]
    },
    {
      "cell_type": "code",
      "execution_count": 5,
      "metadata": {
        "id": "m0mMYcW1Hbc4"
      },
      "outputs": [],
      "source": [
        "model = tf.keras.Sequential([\n",
        "    tf.keras.layers.Conv2D(kernel_size=(3,3), filters=64, input_shape=(28,28,1), padding='same', activation='relu'),\n",
        "    tf.keras.layers.Conv2D(kernel_size=(3,3), filters=64, padding='same', activation='relu'),\n",
        "    tf.keras.layers.MaxPool2D(pool_size=(2,2)),\n",
        "\n",
        "    tf.keras.layers.Conv2D(kernel_size=(3,3), filters=128, padding='same', activation='relu'),\n",
        "    tf.keras.layers.Conv2D(kernel_size=(3,3), filters=256, padding='valid', activation='relu'),\n",
        "    tf.keras.layers.MaxPool2D(pool_size=(2,2)),\n",
        "\n",
        "    tf.keras.layers.Flatten(),\n",
        "    tf.keras.layers.Dense(units=512, activation='relu'),\n",
        "    tf.keras.layers.Dropout(0.5),\n",
        "    tf.keras.layers.Dense(units=256, activation='relu'),\n",
        "    tf.keras.layers.Dropout(0.5),\n",
        "    tf.keras.layers.Dense(units=10, activation='softmax')\n",
        "])"
      ]
    },
    {
      "cell_type": "markdown",
      "metadata": {
        "id": "bkSRz2U3NQJv"
      },
      "source": [
        "### CNN 모델 구현\n",
        "- 모델 컴파일"
      ]
    },
    {
      "cell_type": "code",
      "execution_count": 6,
      "metadata": {
        "colab": {
          "base_uri": "https://localhost:8080/"
        },
        "id": "iBz7sPRNHbbI",
        "outputId": "a95e5ddb-0077-4873-e22e-af7d9640c0ab"
      },
      "outputs": [
        {
          "output_type": "stream",
          "name": "stdout",
          "text": [
            "Model: \"sequential\"\n",
            "_________________________________________________________________\n",
            " Layer (type)                Output Shape              Param #   \n",
            "=================================================================\n",
            " conv2d (Conv2D)             (None, 28, 28, 64)        640       \n",
            "                                                                 \n",
            " conv2d_1 (Conv2D)           (None, 28, 28, 64)        36928     \n",
            "                                                                 \n",
            " max_pooling2d (MaxPooling2D  (None, 14, 14, 64)       0         \n",
            " )                                                               \n",
            "                                                                 \n",
            " conv2d_2 (Conv2D)           (None, 14, 14, 128)       73856     \n",
            "                                                                 \n",
            " conv2d_3 (Conv2D)           (None, 12, 12, 256)       295168    \n",
            "                                                                 \n",
            " max_pooling2d_1 (MaxPooling  (None, 6, 6, 256)        0         \n",
            " 2D)                                                             \n",
            "                                                                 \n",
            " flatten (Flatten)           (None, 9216)              0         \n",
            "                                                                 \n",
            " dense (Dense)               (None, 512)               4719104   \n",
            "                                                                 \n",
            " dropout (Dropout)           (None, 512)               0         \n",
            "                                                                 \n",
            " dense_1 (Dense)             (None, 256)               131328    \n",
            "                                                                 \n",
            " dropout_1 (Dropout)         (None, 256)               0         \n",
            "                                                                 \n",
            " dense_2 (Dense)             (None, 10)                2570      \n",
            "                                                                 \n",
            "=================================================================\n",
            "Total params: 5,259,594\n",
            "Trainable params: 5,259,594\n",
            "Non-trainable params: 0\n",
            "_________________________________________________________________\n"
          ]
        }
      ],
      "source": [
        "model.compile(loss='categorical_crossentropy', optimizer=tf.optimizers.Adam(learning_rate=0.001), metrics=['accuracy'])\n",
        "model.summary()"
      ]
    },
    {
      "cell_type": "markdown",
      "metadata": {
        "id": "vZzVviylNUFE"
      },
      "source": [
        "### 모델 평가\n",
        "- 모델 훈련 및 평가"
      ]
    },
    {
      "cell_type": "code",
      "execution_count": 7,
      "metadata": {
        "colab": {
          "base_uri": "https://localhost:8080/"
        },
        "id": "wApUMvlwHbZG",
        "outputId": "36b3765d-a2cf-4391-bec5-fdc498aee482"
      },
      "outputs": [
        {
          "output_type": "stream",
          "name": "stdout",
          "text": [
            "Epoch 1/10\n",
            "600/600 [==============================] - 20s 18ms/step - loss: 0.1900 - accuracy: 0.9417 - val_loss: 0.0442 - val_accuracy: 0.9870\n",
            "Epoch 2/10\n",
            "600/600 [==============================] - 10s 17ms/step - loss: 0.0569 - accuracy: 0.9843 - val_loss: 0.0226 - val_accuracy: 0.9925\n",
            "Epoch 3/10\n",
            "600/600 [==============================] - 11s 18ms/step - loss: 0.0405 - accuracy: 0.9886 - val_loss: 0.0248 - val_accuracy: 0.9930\n",
            "Epoch 4/10\n",
            "600/600 [==============================] - 10s 17ms/step - loss: 0.0321 - accuracy: 0.9909 - val_loss: 0.0193 - val_accuracy: 0.9941\n",
            "Epoch 5/10\n",
            "600/600 [==============================] - 10s 17ms/step - loss: 0.0264 - accuracy: 0.9925 - val_loss: 0.0205 - val_accuracy: 0.9935\n",
            "Epoch 6/10\n",
            "600/600 [==============================] - 10s 17ms/step - loss: 0.0220 - accuracy: 0.9941 - val_loss: 0.0212 - val_accuracy: 0.9935\n",
            "Epoch 7/10\n",
            "600/600 [==============================] - 10s 17ms/step - loss: 0.0205 - accuracy: 0.9942 - val_loss: 0.0198 - val_accuracy: 0.9945\n",
            "Epoch 8/10\n",
            "600/600 [==============================] - 10s 17ms/step - loss: 0.0178 - accuracy: 0.9951 - val_loss: 0.0301 - val_accuracy: 0.9936\n",
            "Epoch 9/10\n",
            "600/600 [==============================] - 10s 17ms/step - loss: 0.0159 - accuracy: 0.9954 - val_loss: 0.0235 - val_accuracy: 0.9941\n",
            "Epoch 10/10\n",
            "600/600 [==============================] - 10s 17ms/step - loss: 0.0150 - accuracy: 0.9955 - val_loss: 0.0410 - val_accuracy: 0.9920\n",
            "313/313 [==============================] - 2s 4ms/step - loss: 0.0410 - accuracy: 0.9920\n",
            "Accuracy(%): [0.04099728539586067, 0.9919999837875366]\n"
          ]
        }
      ],
      "source": [
        "model.fit(x_train, y_train, batch_size=100, epochs=10, validation_data=(x_test,y_test))\n",
        "\n",
        "result = model.evaluate(x_test,y_test)\n",
        "print(\"Accuracy(%):\", result)"
      ]
    },
    {
      "cell_type": "code",
      "execution_count": 8,
      "metadata": {
        "colab": {
          "base_uri": "https://localhost:8080/"
        },
        "id": "w4sxAf3aHbW-",
        "outputId": "6f1539dc-5651-40bb-bd49-1fc47c21fdd1"
      },
      "outputs": [
        {
          "output_type": "stream",
          "name": "stdout",
          "text": [
            "Accuracy(%): 0.9919999837875366\n"
          ]
        }
      ],
      "source": [
        "print(\"Accuracy(%):\", result[1])"
      ]
    }
  ],
  "metadata": {
    "accelerator": "GPU",
    "colab": {
      "collapsed_sections": [],
      "provenance": [],
      "toc_visible": true
    },
    "gpuClass": "standard",
    "kernelspec": {
      "display_name": "Python 3 (ipykernel)",
      "language": "python",
      "name": "python3"
    },
    "language_info": {
      "codemirror_mode": {
        "name": "ipython",
        "version": 3
      },
      "file_extension": ".py",
      "mimetype": "text/x-python",
      "name": "python",
      "nbconvert_exporter": "python",
      "pygments_lexer": "ipython3",
      "version": "3.10.5"
    }
  },
  "nbformat": 4,
  "nbformat_minor": 0
}