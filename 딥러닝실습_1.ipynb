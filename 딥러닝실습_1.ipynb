{
  "cells": [
    {
      "cell_type": "markdown",
      "metadata": {
        "id": "TVNNpqBtKQHf"
      },
      "source": [
        "python 3.10, \n",
        "Tesorflow, Keras 2.10\n",
        "numpy 1.23.1"
      ]
    },
    {
      "cell_type": "markdown",
      "metadata": {
        "id": "xLd-l4RfHBk8"
      },
      "source": [
        "# PART1. DNN 실습"
      ]
    },
    {
      "cell_type": "markdown",
      "metadata": {
        "id": "WQ277a8KK3y8"
      },
      "source": [
        "###필요한 라이브러리 호출\n",
        "- import를 이용하여 library 호출"
      ]
    },
    {
      "cell_type": "code",
      "execution_count": 10,
      "metadata": {
        "id": "bwuayWIGNghV"
      },
      "outputs": [],
      "source": [
        "import numpy as np\n",
        "import tensorflow as tf\n",
        "from keras import layers, models\n",
        "from tensorflow.keras.models import Sequential\n",
        "from tensorflow.keras.layers import Dense"
      ]
    },
    {
      "cell_type": "code",
      "execution_count": 11,
      "metadata": {
        "id": "SiB8dlU-Ngfa"
      },
      "outputs": [],
      "source": [
        "from keras import datasets\n",
        "from keras.utils import np_utils"
      ]
    },
    {
      "cell_type": "markdown",
      "metadata": {
        "id": "_iEYn4IGLNNC"
      },
      "source": [
        "### Dataset 생성\n",
        "- Train, Test dataset 불러오기"
      ]
    },
    {
      "cell_type": "code",
      "execution_count": 12,
      "metadata": {
        "id": "L5NX5A5NNgZ9"
      },
      "outputs": [],
      "source": [
        "# 오프라인시 파일 필요 : 사용자/.keras/datasets/mnist.npz \n",
        "(X_train,y_train), (X_test,y_test) = datasets.mnist.load_data()"
      ]
    },
    {
      "cell_type": "markdown",
      "metadata": {
        "id": "c0Y02UqrLVXR"
      },
      "source": [
        "- One-Hot Encoding 처리\n"
      ]
    },
    {
      "cell_type": "code",
      "execution_count": 13,
      "metadata": {
        "id": "CHMF-PYlNgdm"
      },
      "outputs": [],
      "source": [
        "y_train = np_utils.to_categorical(y_train)\n",
        "y_test = np_utils.to_categorical(y_test)"
      ]
    },
    {
      "cell_type": "markdown",
      "metadata": {
        "id": "vnTdpKg3LjX9"
      },
      "source": [
        "- Data pre-processing"
      ]
    },
    {
      "cell_type": "code",
      "execution_count": 14,
      "metadata": {
        "id": "GVq7tNnJNgb0"
      },
      "outputs": [],
      "source": [
        "L, W, H = X_train.shape\n",
        "X_train = X_train.reshape(-1, W * H)\n",
        "X_test = X_test.reshape(-1, W * H)\n",
        "\n",
        "X_train = X_train / 255.0\n",
        "X_test = X_test / 255.0"
      ]
    },
    {
      "cell_type": "markdown",
      "metadata": {
        "id": "jLIVEs4OLwXl"
      },
      "source": [
        "### 기본 파라미터 설정\n",
        "- 노드 수 설정하기"
      ]
    },
    {
      "cell_type": "code",
      "execution_count": 15,
      "metadata": {
        "id": "lBu8sB5mNgX8"
      },
      "outputs": [],
      "source": [
        "input_node = 784\n",
        "hidden_node = [100,50]\n",
        "output_node = 10"
      ]
    },
    {
      "cell_type": "markdown",
      "metadata": {
        "id": "2K61gbM9L7EB"
      },
      "source": [
        "### DNN 모델 구현\n",
        "- DNN 모델링"
      ]
    },
    {
      "cell_type": "code",
      "execution_count": 16,
      "metadata": {
        "colab": {
          "base_uri": "https://localhost:8080/"
        },
        "id": "mUPyMjLINgV8",
        "outputId": "79f7d29a-612f-4633-cda9-f7b1fe8006c5"
      },
      "outputs": [
        {
          "output_type": "stream",
          "name": "stdout",
          "text": [
            "Model: \"sequential_1\"\n",
            "_________________________________________________________________\n",
            " Layer (type)                Output Shape              Param #   \n",
            "=================================================================\n",
            " Hidden1 (Dense)             (None, 100)               78500     \n",
            "                                                                 \n",
            " Hidden2 (Dense)             (None, 50)                5050      \n",
            "                                                                 \n",
            " dense_1 (Dense)             (None, 10)                510       \n",
            "                                                                 \n",
            "=================================================================\n",
            "Total params: 84,060\n",
            "Trainable params: 84,060\n",
            "Non-trainable params: 0\n",
            "_________________________________________________________________\n"
          ]
        }
      ],
      "source": [
        "model = Sequential()\n",
        "\n",
        "model.add(Dense(hidden_node[0], input_dim=input_node, activation = 'relu', name='Hidden1'))\n",
        "model.add(Dense(hidden_node[1], activation = 'relu', name='Hidden2'))\n",
        "model.add(Dense(output_node, activation = 'softmax'))\n",
        "\n",
        "model.compile(loss='categorical_crossentropy', optimizer='adam', metrics=['accuracy'])\n",
        "\n",
        "model.summary()"
      ]
    },
    {
      "cell_type": "markdown",
      "metadata": {
        "id": "tMVeV3vyL9yy"
      },
      "source": [
        "### 분류 DNN 학습 및 성능평가\n",
        "- 데이터 학습 및 성능 평가"
      ]
    },
    {
      "cell_type": "code",
      "execution_count": 17,
      "metadata": {
        "colab": {
          "base_uri": "https://localhost:8080/"
        },
        "id": "Uv2SZB6LNgT9",
        "outputId": "353e4dfb-6cc5-4295-91d3-05095062d967"
      },
      "outputs": [
        {
          "output_type": "stream",
          "name": "stdout",
          "text": [
            "Epoch 1/20\n",
            "420/420 [==============================] - 3s 6ms/step - loss: 0.3956 - accuracy: 0.8874 - val_loss: 0.2102 - val_accuracy: 0.9379\n",
            "Epoch 2/20\n",
            "420/420 [==============================] - 2s 5ms/step - loss: 0.1649 - accuracy: 0.9519 - val_loss: 0.1498 - val_accuracy: 0.9568\n",
            "Epoch 3/20\n",
            "420/420 [==============================] - 2s 6ms/step - loss: 0.1178 - accuracy: 0.9658 - val_loss: 0.1397 - val_accuracy: 0.9584\n",
            "Epoch 4/20\n",
            "420/420 [==============================] - 2s 6ms/step - loss: 0.0884 - accuracy: 0.9738 - val_loss: 0.1178 - val_accuracy: 0.9643\n",
            "Epoch 5/20\n",
            "420/420 [==============================] - 2s 6ms/step - loss: 0.0692 - accuracy: 0.9792 - val_loss: 0.1081 - val_accuracy: 0.9687\n",
            "Epoch 6/20\n",
            "420/420 [==============================] - 2s 6ms/step - loss: 0.0567 - accuracy: 0.9832 - val_loss: 0.1082 - val_accuracy: 0.9697\n",
            "Epoch 7/20\n",
            "420/420 [==============================] - 2s 5ms/step - loss: 0.0438 - accuracy: 0.9870 - val_loss: 0.1012 - val_accuracy: 0.9720\n",
            "Epoch 8/20\n",
            "420/420 [==============================] - 2s 4ms/step - loss: 0.0361 - accuracy: 0.9897 - val_loss: 0.1186 - val_accuracy: 0.9679\n",
            "Epoch 9/20\n",
            "420/420 [==============================] - 2s 5ms/step - loss: 0.0304 - accuracy: 0.9912 - val_loss: 0.1090 - val_accuracy: 0.9703\n",
            "Epoch 10/20\n",
            "420/420 [==============================] - 2s 5ms/step - loss: 0.0260 - accuracy: 0.9925 - val_loss: 0.1202 - val_accuracy: 0.9696\n",
            "Epoch 11/20\n",
            "420/420 [==============================] - 2s 6ms/step - loss: 0.0201 - accuracy: 0.9944 - val_loss: 0.1080 - val_accuracy: 0.9720\n",
            "Epoch 12/20\n",
            "420/420 [==============================] - 2s 5ms/step - loss: 0.0162 - accuracy: 0.9954 - val_loss: 0.1272 - val_accuracy: 0.9672\n",
            "Epoch 13/20\n",
            "420/420 [==============================] - 2s 6ms/step - loss: 0.0139 - accuracy: 0.9963 - val_loss: 0.1297 - val_accuracy: 0.9687\n",
            "Epoch 14/20\n",
            "420/420 [==============================] - 2s 5ms/step - loss: 0.0121 - accuracy: 0.9965 - val_loss: 0.1322 - val_accuracy: 0.9712\n",
            "Epoch 15/20\n",
            "420/420 [==============================] - 2s 5ms/step - loss: 0.0124 - accuracy: 0.9962 - val_loss: 0.1363 - val_accuracy: 0.9687\n",
            "Epoch 16/20\n",
            "420/420 [==============================] - 2s 6ms/step - loss: 0.0100 - accuracy: 0.9970 - val_loss: 0.1608 - val_accuracy: 0.9642\n",
            "Epoch 17/20\n",
            "420/420 [==============================] - 2s 6ms/step - loss: 0.0109 - accuracy: 0.9968 - val_loss: 0.1315 - val_accuracy: 0.9709\n",
            "Epoch 18/20\n",
            "420/420 [==============================] - 2s 5ms/step - loss: 0.0065 - accuracy: 0.9984 - val_loss: 0.1546 - val_accuracy: 0.9674\n",
            "Epoch 19/20\n",
            "420/420 [==============================] - 2s 5ms/step - loss: 0.0107 - accuracy: 0.9966 - val_loss: 0.1397 - val_accuracy: 0.9716\n",
            "Epoch 20/20\n",
            "420/420 [==============================] - 2s 6ms/step - loss: 0.0076 - accuracy: 0.9978 - val_loss: 0.1623 - val_accuracy: 0.9678\n",
            "313/313 [==============================] - 1s 2ms/step - loss: 0.1307 - accuracy: 0.9717\n",
            "Test Loss and Accuracy : [0.13071487843990326, 0.9717000126838684]\n"
          ]
        }
      ],
      "source": [
        "model.fit(X_train,y_train, epochs=20, batch_size= 100, validation_split = 0.3)\n",
        "result = model.evaluate(X_test,y_test)\n",
        "print('Test Loss and Accuracy :', result)"
      ]
    }
  ],
  "metadata": {
    "colab": {
      "collapsed_sections": [],
      "provenance": [],
      "toc_visible": true
    },
    "gpuClass": "standard",
    "kernelspec": {
      "display_name": "Python 3 (ipykernel)",
      "language": "python",
      "name": "python3"
    },
    "language_info": {
      "codemirror_mode": {
        "name": "ipython",
        "version": 3
      },
      "file_extension": ".py",
      "mimetype": "text/x-python",
      "name": "python",
      "nbconvert_exporter": "python",
      "pygments_lexer": "ipython3",
      "version": "3.10.5"
    }
  },
  "nbformat": 4,
  "nbformat_minor": 0
}